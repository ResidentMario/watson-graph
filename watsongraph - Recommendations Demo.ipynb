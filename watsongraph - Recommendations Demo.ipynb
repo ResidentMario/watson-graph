{
 "cells": [
  {
   "cell_type": "markdown",
   "metadata": {},
   "source": [
    "The `watsongraph` module provides defaults abstractions of its basic `ConceptModel` objects for the benefits of a particular application: recommendation modeling. This is in the form of the `User` and `Item` classes, a walkthrough of which is the focus of this notebook.\n",
    "\n",
    "For a lower-level introduction to concept modeling see the [Concept Modeling Demo notebook](./watsongraph - Concept Mapping Demo.ipynb)."
   ]
  },
  {
   "cell_type": "code",
   "execution_count": 4,
   "metadata": {
    "collapsed": false
   },
   "outputs": [],
   "source": [
    "from watsongraph.item import Item\n",
    "from watsongraph.user import User"
   ]
  },
  {
   "cell_type": "markdown",
   "metadata": {},
   "source": [
    "This is Bob."
   ]
  },
  {
   "cell_type": "code",
   "execution_count": 5,
   "metadata": {
    "collapsed": false
   },
   "outputs": [],
   "source": [
    "Bob = User(user_id='Bob')"
   ]
  },
  {
   "cell_type": "markdown",
   "metadata": {},
   "source": [
    "He's kind of crazy about data technologies. Can't get enough of them, really!"
   ]
  },
  {
   "cell_type": "code",
   "execution_count": 6,
   "metadata": {
    "collapsed": true
   },
   "outputs": [],
   "source": [
    "Bob.input_interests([\"Data science\", \"Machine learning\", \"Big data\", \"Cognitive science\"])"
   ]
  },
  {
   "cell_type": "markdown",
   "metadata": {},
   "source": [
    "Bob hears that IBM has been doing some pretty cool things with IBM Watson!"
   ]
  },
  {
   "cell_type": "code",
   "execution_count": 7,
   "metadata": {
    "collapsed": true
   },
   "outputs": [],
   "source": [
    "Bob.input_interest(\"IBM Watson\")"
   ]
  },
  {
   "cell_type": "markdown",
   "metadata": {},
   "source": [
    "Bob has quite a few interests doesn't he! Let's list them in order of relevance using `interests()`."
   ]
  },
  {
   "cell_type": "code",
   "execution_count": 8,
   "metadata": {
    "collapsed": false,
    "scrolled": false
   },
   "outputs": [
    {
     "data": {
      "text/plain": [
       "[(1.0, 'Watson (computer)'),\n",
       " (1.0, 'Machine learning'),\n",
       " (1.0, 'Data science'),\n",
       " (1.0, 'Cognitive science'),\n",
       " (1.0, 'Big data'),\n",
       " (0.98540753, 'Computer programming'),\n",
       " (0.9337915, 'Engineering'),\n",
       " (0.92557955, 'Rensselaer Polytechnic Institute'),\n",
       " (0.9230226, 'Artificial intelligence'),\n",
       " (0.91526705, 'Supercomputer'),\n",
       " (0.91326, 'IBM'),\n",
       " (0.90725476, 'Oracle Corporation'),\n",
       " (0.8980086, 'Probability distribution'),\n",
       " (0.893338, 'Wikipedia'),\n",
       " (0.89253134, 'MySQL'),\n",
       " (0.8856315, 'Neuroscience'),\n",
       " (0.88045394, 'Normal distribution'),\n",
       " (0.84841204, 'Database'),\n",
       " (0.84179896, 'Index of robotics articles'),\n",
       " (0.8371536, 'Epistemology'),\n",
       " (0.8366102, 'Statistics'),\n",
       " (0.83290774, 'Software as a service'),\n",
       " (0.8234017, 'Bioinformatics'),\n",
       " (0.8223722, 'Index of psychology articles'),\n",
       " (0.81731814, 'Game show'),\n",
       " (0.81545234, 'Noam Chomsky'),\n",
       " (0.8082598, 'Association for Computing Machinery'),\n",
       " (0.8067764, 'Web search engine'),\n",
       " (0.80583435, 'Algorithm'),\n",
       " (0.8037912, 'Cognition'),\n",
       " (0.7920823, 'Semantics'),\n",
       " (0.7916463, 'Probability'),\n",
       " (0.79021126, 'Syntax'),\n",
       " (0.7880096, 'List of linguists'),\n",
       " (0.779158, 'Institute of Electrical and Electronics Engineers'),\n",
       " (0.7681777, 'Java (programming language)'),\n",
       " (0.76272744, 'Perl'),\n",
       " (0.75929236, 'Psychology'),\n",
       " (0.7460879, 'Computing'),\n",
       " (0.7453888, 'Carnegie Mellon University'),\n",
       " (0.7278862, 'Application software'),\n",
       " (0.7267996, 'Game theory'),\n",
       " (0.7235741, 'Linguistics'),\n",
       " (0.7235076, 'Object-oriented programming'),\n",
       " (0.7209754, 'Cloud computing'),\n",
       " (0.71247834, 'List of statistics articles'),\n",
       " (0.69722766, 'Computer science'),\n",
       " (0.6876881, 'Logic'),\n",
       " (0.6873813, 'Eigenvalues and eigenvectors'),\n",
       " (0.6804568, 'Python (programming language)'),\n",
       " (0.67939514, 'Cross-platform'),\n",
       " (0.67921543, 'SQL'),\n",
       " (0.6727461, 'Ruby (programming language)'),\n",
       " (0.6666766, 'XML'),\n",
       " (0.6643771, \"List of minor The Hitchhiker's Guide to the Galaxy characters\"),\n",
       " (0.66360533, 'Application programming interface'),\n",
       " (0.6625294, 'Sun Microsystems'),\n",
       " (0.66163707, 'Social network'),\n",
       " (0.66132975, 'Metadata'),\n",
       " (0.6592036, 'Graph theory'),\n",
       " (0.6553445, 'Hard disk drive'),\n",
       " (0.64754194, 'University of Massachusetts Amherst'),\n",
       " (0.64495015, '.NET Framework'),\n",
       " (0.644903, 'Metaphysics'),\n",
       " (0.6377207, 'Index of philosophy articles (I–Q)'),\n",
       " (0.63646376, 'Immanuel Kant'),\n",
       " (0.6363162, 'Solaris (operating system)'),\n",
       " (0.6351442, 'Hewlett-Packard'),\n",
       " (0.63217145, 'Consciousness'),\n",
       " (0.6314298, 'Matrix (mathematics)'),\n",
       " (0.623089, 'Robotics'),\n",
       " (0.6124636, 'Index of philosophy articles (D–H)'),\n",
       " (0.6049423, 'René Descartes'),\n",
       " (0.5816875, 'Real number'),\n",
       " (0.5500111, 'Function (mathematics)')]"
      ]
     },
     "execution_count": 8,
     "metadata": {},
     "output_type": "execute_result"
    }
   ],
   "source": [
    "Bob.interests()"
   ]
  },
  {
   "cell_type": "markdown",
   "metadata": {},
   "source": [
    "Bob wants to know which of these two events he'd be better off going to: the Data Wrangers meetup or Relay 2015?\n",
    "Ooh! But they're both so good! Hard to decide!\n",
    "\n",
    "A better idea than flipping a coin: let's run both events through our recommendation system.\n",
    "\n",
    "First let's define these two events using the `Item` class."
   ]
  },
  {
   "cell_type": "code",
   "execution_count": 9,
   "metadata": {
    "collapsed": false
   },
   "outputs": [],
   "source": [
    "# Bob wants to know which of these two events he'd be better off going to: Data Wrangers or Manufacturing Snapshot?\n",
    "# Ooh! But they're both so good! Hard to decide!\n",
    "# A better idea than flipping a coin: let's run both events through our recommendation system.\n",
    "meetup = Item(\"NYC Data Wranglers: Data Science in Practice\",\n",
    "\"\"\"Join us for a discussion panel with data scientists from Greenhouse, the New York Times, Socure, Via, and YipitData.\n",
    "We'll discuss projects, tools, challenges, and insights from the perspective of data scientists working in the field. We'll also explore ways the practice of data science is growing and evolving.\n",
    "Confirmed Panelists:\n",
    "Anne Bauer started working as a data scientist at the New York Times in June, 2015. Prior to that she was a fellow at Insight Data Science, making the transition to data science from academia. She has a Ph.D. in physics and held research positions in astrophysics and cosmology in Munich and Barcelona before coming to the NYT.\n",
    "David Epstein is a Senior Data Scientist with Socure, where he works on identity verification and fraud detection. Previously, he was a Consulting Economist for the World Bank and a Professor of Political Science at Columbia University.\n",
    "Andrew Zirm received his PhD in Physics (Astrophysics thesis) from Johns Hopkins University. He studied galaxies in the distant universe during several postdocs and before becoming an Insight Fellow in the Summer of 2014 was a professor in Copenhagen, Denmark. Andrew was the first (and still only) Data Scientist at Greenhouse Software, a SaaS recruiting optimization platform based in NYC.\n",
    "Our moderator, Emily Gould, is a Senior Analyst of Data Product and Performance Marketing for American Express.\"\"\")\n",
    "relay = Item(\"Relay 2015\",\n",
    "\"\"\"Join for Relay 2015, a FREE, exclusive event where IBM Bluemix will discuss how leading companies around the world are taking advantage of the cloud and how IBM is helping them to be successful. \n",
    "Discover the new technology and best practices that companies are employing to move faster and focus on innovation that truly matters to their customers\n",
    "Empower your company to leverage your unique skills, systems and data in new cloud and digital models\n",
    "Michael's Session (below)\n",
    "New Data Sources, New Value. Watson, Weather and Beyond\n",
    "This discussion led by Michael Karasick delves into how data from weather, sensors, text and images can be used to change the way apps interact with users and machines.\"\"\")"
   ]
  },
  {
   "cell_type": "markdown",
   "metadata": {},
   "source": [
    "To see the resulting `(relevance, concept)` tuples use `relevancies()`. This works the same way that `interests()` works for `User` objects!"
   ]
  },
  {
   "cell_type": "code",
   "execution_count": 10,
   "metadata": {
    "collapsed": false,
    "scrolled": false
   },
   "outputs": [
    {
     "data": {
      "text/plain": [
       "[(0.86913383, 'Data science'),\n",
       " (0.79944324, 'Astrophysics'),\n",
       " (0.76505643, 'Johns Hopkins University'),\n",
       " (0.7612101, 'Professor'),\n",
       " (0.75725406, 'Postdoctoral researcher'),\n",
       " (0.75622356, 'Fellow'),\n",
       " (0.74102974, 'Columbia University'),\n",
       " (0.7395468, 'Doctor of Philosophy'),\n",
       " (0.72627586, 'Cosmology'),\n",
       " (0.72122234, 'Physics'),\n",
       " (0.7158674, 'Political science'),\n",
       " (0.6833801, 'Research'),\n",
       " (0.6762044, 'Academia'),\n",
       " (0.67036015, 'Thesis'),\n",
       " (0.66710407, 'Economist'),\n",
       " (0.6600149, 'Marketing'),\n",
       " (0.62976503, 'Science'),\n",
       " (0.58912677, 'American Express'),\n",
       " (0.5886991, 'Galaxy'),\n",
       " (0.5869525, 'World Bank'),\n",
       " (0.5785933, 'Universe'),\n",
       " (0.5656817, 'Software as a service'),\n",
       " (0.5530766, 'Emily Gould'),\n",
       " (0.5504416, 'Copenhagen'),\n",
       " (0.53507394, 'Advice and consent'),\n",
       " (0.524541, 'Fraud'),\n",
       " (0.516044, 'Munich'),\n",
       " (0.4605503, 'Barcelona'),\n",
       " (0.4463658, 'The New York Times')]"
      ]
     },
     "execution_count": 10,
     "metadata": {},
     "output_type": "execute_result"
    }
   ],
   "source": [
    "meetup.relevancies()"
   ]
  },
  {
   "cell_type": "markdown",
   "metadata": {},
   "source": [
    "Now let's use our model of what Bob likes to compare the `meetup` and `relay` events and see which one we think he would like most!"
   ]
  },
  {
   "cell_type": "code",
   "execution_count": 11,
   "metadata": {
    "collapsed": false,
    "scrolled": true
   },
   "outputs": [
    {
     "data": {
      "text/plain": [
       "1.633861635"
      ]
     },
     "execution_count": 11,
     "metadata": {},
     "output_type": "execute_result"
    }
   ],
   "source": [
    "Bob.interest_in(meetup)"
   ]
  },
  {
   "cell_type": "code",
   "execution_count": 12,
   "metadata": {
    "collapsed": false
   },
   "outputs": [
    {
     "data": {
      "text/plain": [
       "1.54593405"
      ]
     },
     "execution_count": 12,
     "metadata": {},
     "output_type": "execute_result"
    }
   ],
   "source": [
    "Bob.interest_in(relay)"
   ]
  },
  {
   "cell_type": "markdown",
   "metadata": {},
   "source": [
    "It's a close tie, but `meetup` wins it!\n",
    "\n",
    "Still, he's clearly interested in both. Let's tell our model that fact, to help improve future results."
   ]
  },
  {
   "cell_type": "code",
   "execution_count": 13,
   "metadata": {
    "collapsed": false
   },
   "outputs": [],
   "source": [
    "Bob.express_interest(meetup)\n",
    "Bob.express_interest(relay)"
   ]
  },
  {
   "cell_type": "markdown",
   "metadata": {},
   "source": [
    "If on the contrary Bob wanted to express *disinterest* in an event we would, logically, need `Bob.express_disinterest()`.\n",
    "\n",
    "How do Bob's life choices change our perception of him?"
   ]
  },
  {
   "cell_type": "code",
   "execution_count": 14,
   "metadata": {
    "collapsed": false,
    "scrolled": false
   },
   "outputs": [
    {
     "data": {
      "text/plain": [
       "[(1.0, 'Watson (computer)'),\n",
       " (1.0, 'Machine learning'),\n",
       " (1.0, 'Data science'),\n",
       " (1.0, 'Cognitive science'),\n",
       " (1.0, 'Big data'),\n",
       " (0.98540753, 'Computer programming'),\n",
       " (0.9593318879999999, 'Astrophysics'),\n",
       " (0.9337915, 'Engineering'),\n",
       " (0.9293822399999999, 'Data'),\n",
       " (0.92557955, 'Rensselaer Polytechnic Institute'),\n",
       " (0.9255349919999999, 'Innovation'),\n",
       " (0.9230226, 'Artificial intelligence'),\n",
       " (0.92206152, 'Cloud computing'),\n",
       " (0.9180677159999999, 'Johns Hopkins University'),\n",
       " (0.91526705, 'Supercomputer'),\n",
       " (0.91345212, 'Professor'),\n",
       " (0.9087048719999999, 'Postdoctoral researcher'),\n",
       " (0.907468272, 'Fellow'),\n",
       " (0.90725476, 'Oracle Corporation'),\n",
       " (0.8980086, 'Probability distribution'),\n",
       " (0.893338, 'Wikipedia'),\n",
       " (0.89253134, 'MySQL'),\n",
       " (0.889235688, 'Columbia University'),\n",
       " (0.8874561599999999, 'Doctor of Philosophy'),\n",
       " (0.8856315, 'Neuroscience'),\n",
       " (0.8850320399999999, 'Best practice'),\n",
       " (0.88045394, 'Normal distribution'),\n",
       " (0.8715310319999999, 'Cosmology'),\n",
       " (0.865466808, 'Physics'),\n",
       " (0.85949328, 'Weather'),\n",
       " (0.85904088, 'Political science'),\n",
       " (0.85884984, 'Customer'),\n",
       " (0.8586318, 'Technology'),\n",
       " (0.84841204, 'Database'),\n",
       " (0.842334792, 'Sensor'),\n",
       " (0.84179896, 'Index of robotics articles'),\n",
       " (0.8371536, 'Epistemology'),\n",
       " (0.8366102, 'Statistics'),\n",
       " (0.82709772, 'IBM'),\n",
       " (0.8234017, 'Bioinformatics'),\n",
       " (0.82310892, 'Digital data'),\n",
       " (0.8223722, 'Index of psychology articles'),\n",
       " (0.82005612, 'Research'),\n",
       " (0.81731814, 'Game show'),\n",
       " (0.81545234, 'Noam Chomsky'),\n",
       " (0.81144528, 'Academia'),\n",
       " (0.8082598, 'Association for Computing Machinery'),\n",
       " (0.8067764, 'Web search engine'),\n",
       " (0.80583435, 'Algorithm'),\n",
       " (0.80443218, 'Thesis'),\n",
       " (0.8037912, 'Cognition'),\n",
       " (0.8008117199999999, 'Company'),\n",
       " (0.800524884, 'Economist'),\n",
       " (0.7920823, 'Semantics'),\n",
       " (0.79201788, 'Marketing'),\n",
       " (0.7916463, 'Probability'),\n",
       " (0.79021126, 'Syntax'),\n",
       " (0.7880096, 'List of linguists'),\n",
       " (0.779158, 'Institute of Electrical and Electronics Engineers'),\n",
       " (0.7681777, 'Java (programming language)'),\n",
       " (0.76272744, 'Perl'),\n",
       " (0.75929236, 'Psychology'),\n",
       " (0.7557180359999999, 'Science'),\n",
       " (0.7460879, 'Computing'),\n",
       " (0.7453888, 'Carnegie Mellon University'),\n",
       " (0.7424988, 'Protein–protein interaction'),\n",
       " (0.7278862, 'Application software'),\n",
       " (0.7267996, 'Game theory'),\n",
       " (0.7235741, 'Linguistics'),\n",
       " (0.7235076, 'Object-oriented programming'),\n",
       " (0.71247834, 'List of statistics articles'),\n",
       " (0.706952124, 'American Express'),\n",
       " (0.70643892, 'Galaxy'),\n",
       " (0.7043429999999999, 'World Bank'),\n",
       " (0.69722766, 'Computer science'),\n",
       " (0.69431196, 'Universe'),\n",
       " (0.6876881, 'Logic'),\n",
       " (0.6873813, 'Eigenvalues and eigenvectors'),\n",
       " (0.6804568, 'Python (programming language)'),\n",
       " (0.67939514, 'Cross-platform'),\n",
       " (0.67921543, 'SQL'),\n",
       " (0.6788180399999999, 'Software as a service'),\n",
       " (0.6727461, 'Ruby (programming language)'),\n",
       " (0.6666766, 'XML'),\n",
       " (0.6643771, \"List of minor The Hitchhiker's Guide to the Galaxy characters\"),\n",
       " (0.66369192, 'Emily Gould'),\n",
       " (0.66360533, 'Application programming interface'),\n",
       " (0.6625294, 'Sun Microsystems'),\n",
       " (0.66163707, 'Social network'),\n",
       " (0.66132975, 'Metadata'),\n",
       " (0.66052992, 'Copenhagen'),\n",
       " (0.6592036, 'Graph theory'),\n",
       " (0.6553445, 'Hard disk drive'),\n",
       " (0.64754194, 'University of Massachusetts Amherst'),\n",
       " (0.64495015, '.NET Framework'),\n",
       " (0.644903, 'Metaphysics'),\n",
       " (0.6420887279999999, 'Advice and consent'),\n",
       " (0.6377207, 'Index of philosophy articles (I–Q)'),\n",
       " (0.63646376, 'Immanuel Kant'),\n",
       " (0.6363162, 'Solaris (operating system)'),\n",
       " (0.6351442, 'Hewlett-Packard'),\n",
       " (0.63217145, 'Consciousness'),\n",
       " (0.6314298, 'Matrix (mathematics)'),\n",
       " (0.6294492, 'Fraud'),\n",
       " (0.623089, 'Robotics'),\n",
       " (0.6192527999999999, 'Munich'),\n",
       " (0.6124636, 'Index of philosophy articles (D–H)'),\n",
       " (0.6049423, 'René Descartes'),\n",
       " (0.5816875, 'Real number'),\n",
       " (0.55266036, 'Barcelona'),\n",
       " (0.5500111, 'Function (mathematics)'),\n",
       " (0.53563896, 'The New York Times')]"
      ]
     },
     "execution_count": 14,
     "metadata": {},
     "output_type": "execute_result"
    }
   ],
   "source": [
    "Bob.interests()"
   ]
  },
  {
   "cell_type": "markdown",
   "metadata": {},
   "source": [
    "Whenever we have Bob like or dislike an event we add that event to his list of exceptions, so as not to bore him by telling him about the same thing multiples times in a row."
   ]
  },
  {
   "cell_type": "code",
   "execution_count": 15,
   "metadata": {
    "collapsed": false
   },
   "outputs": [
    {
     "data": {
      "text/plain": [
       "['NYC Data Wranglers: Data Science in Practice', 'Relay 2015']"
      ]
     },
     "execution_count": 15,
     "metadata": {},
     "output_type": "execute_result"
    }
   ],
   "source": [
    "Bob.exceptions"
   ]
  },
  {
   "cell_type": "markdown",
   "metadata": {},
   "source": [
    "We can get the best-fitting `Item` out of a list of them using `get_best_item()`.\n",
    "\n",
    "But this operation accounts for exceptions, so let's clear that first before trying it out."
   ]
  },
  {
   "cell_type": "code",
   "execution_count": 16,
   "metadata": {
    "collapsed": false
   },
   "outputs": [
    {
     "data": {
      "text/plain": [
       "'Relay 2015'"
      ]
     },
     "execution_count": 16,
     "metadata": {},
     "output_type": "execute_result"
    }
   ],
   "source": [
    "Bob.exceptions = []\n",
    "best_fit = Bob.get_best_item([meetup, relay])\n",
    "best_fit.name"
   ]
  },
  {
   "cell_type": "markdown",
   "metadata": {},
   "source": [
    "Let's peek under the hood. `Item` doesn't pull its recommendations out of thin air: it calls the static `model()` method, which in turn calls on the IBM Watson Cognitive Insights API, to tell it what it's all about. You can use this method too."
   ]
  },
  {
   "cell_type": "code",
   "execution_count": 18,
   "metadata": {
    "collapsed": false,
    "scrolled": true
   },
   "outputs": [
    {
     "data": {
      "text/plain": [
       "[['IBM'],\n",
       " ['Cloud computing', 'IBM'],\n",
       " ['Apple Inc.'],\n",
       " ['Programming language', 'Python (programming language)']]"
      ]
     },
     "execution_count": 18,
     "metadata": {},
     "output_type": "execute_result"
    }
   ],
   "source": [
    "from watsongraph.conceptmodel import model\n",
    "[model('IBM').concepts(),\n",
    " model('Join for Relay 2015, a FREE, exclusive event where IBM Bluemix will discuss how leading companies around the world are taking advantage of the cloud and how IBM is helping them to be successful.').concepts(),\n",
    " model('Apple Inc.').concepts(),\n",
    " model('Python is a very nice programming language that is very useful for many computational tasks.').concepts()]"
   ]
  },
  {
   "cell_type": "markdown",
   "metadata": {},
   "source": [
    "One last thing worth mentioning: the watson-graph library provides userfile saving and loading via JSON.\n",
    "\n",
    "These are the `save_user()`, `update_user_credentials()`, `load_user()`, and `delete_user()` methods.\n",
    "\n",
    "All of these methods are object methods (e.g. `Bob.load_user()`, not `Bob = load_user()`).\n",
    "\n",
    "\n",
    "All of these methods take the same one optional parameter, `filename`, the name of the storage file. `accounts.json` is used as the default."
   ]
  },
  {
   "cell_type": "code",
   "execution_count": 23,
   "metadata": {
    "collapsed": false
   },
   "outputs": [
    {
     "data": {
      "text/plain": [
       "<watsongraph.user.User at 0x5bb4668>"
      ]
     },
     "execution_count": 23,
     "metadata": {},
     "output_type": "execute_result"
    }
   ],
   "source": [
    "Bob.save_user()\n",
    "Bob.load_user()\n",
    "Bob.user_id = \"Bobette\"\n",
    "Bob.update_user_credentials()\n",
    "Bob"
   ]
  },
  {
   "cell_type": "markdown",
   "metadata": {},
   "source": [
    "That's all folks!\n",
    "\n",
    "For a lower-level introduction to concept modeling see the [Concept Modeling Demo notebook](./watsongraph - Concept Mapping Demo.ipynb)."
   ]
  }
 ],
 "metadata": {
  "kernelspec": {
   "display_name": "Python 3",
   "language": "python",
   "name": "python3"
  },
  "language_info": {
   "codemirror_mode": {
    "name": "ipython",
    "version": 3
   },
   "file_extension": ".py",
   "mimetype": "text/x-python",
   "name": "python",
   "nbconvert_exporter": "python",
   "pygments_lexer": "ipython3",
   "version": "3.5.1"
  }
 },
 "nbformat": 4,
 "nbformat_minor": 0
}
