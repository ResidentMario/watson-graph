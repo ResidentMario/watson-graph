{
 "cells": [
  {
   "cell_type": "markdown",
   "metadata": {},
   "source": [
    "This notebook is a walkthrough on using `ConceptModel` methodology to effeciently create models useful for the applications that you have in mind. This notebook is a followup to the basic [Concept Model Demo notebook](./watsongraph - Concept Model Demo.ipynb), which introduces `ConceptModel` logic and operations and which you should read **first** before diving into this one."
   ]
  },
  {
   "cell_type": "markdown",
   "metadata": {},
   "source": [
    "## Entropy\n",
    "\n",
    "You may have heard of the principle of [six degrees of seperation](https://en.wikipedia.org/wiki/Six_degrees_of_separation), a fascinating theory from network analysis that states that any two people in the United States are at most six \"friend of friends\" distant from one another. This concept (the subject of a fantastical 1920s mail-order experiment) has since entered popular culture in forms such as [Bacon numbers](https://en.wikipedia.org/wiki/Bacon_number) and [Erős numbers](https://en.wikipedia.org/wiki/Erd%C5%91s_number). Wikipedia has its own [six degrees principle](https://en.wikipedia.org/wiki/Wikipedia:Six_degrees_of_Wikipedia), a popular conception that all *sufficiently mainstream* Wikipedia articles are within six hops of one another, at most.\n",
    "\n",
    "How much entropy does Watson's cognitive graph have? To illustrate how far Watson's cognitive graph can wander let's take a few random 5-step walks. Try re-running this code block yourself. Where do you end up?"
   ]
  },
  {
   "cell_type": "code",
   "execution_count": 20,
   "metadata": {
    "collapsed": true
   },
   "outputs": [],
   "source": [
    "from watsongraph.conceptmodel import ConceptModel\n",
    "import random"
   ]
  },
  {
   "cell_type": "code",
   "execution_count": 10,
   "metadata": {
    "collapsed": false
   },
   "outputs": [
    {
     "data": {
      "text/plain": [
       "'Computer programming'"
      ]
     },
     "execution_count": 10,
     "metadata": {},
     "output_type": "execute_result"
    }
   ],
   "source": [
    "def jump(concept, level=0):\n",
    "    c = ConceptModel([concept])\n",
    "    c.explode(level=level)\n",
    "    l = len(c.concepts())\n",
    "    return c.concepts()[random.randrange(0, l)]\n",
    "\n",
    "jump(jump(jump(jump(jump('IBM')))))"
   ]
  },
  {
   "cell_type": "code",
   "execution_count": 9,
   "metadata": {
    "collapsed": false
   },
   "outputs": [
    {
     "data": {
      "text/plain": [
       "['Microprocessor',\n",
       " 'Megabyte',\n",
       " 'MySQL',\n",
       " 'Random-access memory',\n",
       " 'Digital Equipment Corporation']"
      ]
     },
     "execution_count": 9,
     "metadata": {},
     "output_type": "execute_result"
    }
   ],
   "source": [
    "[jump(jump(jump(jump(jump(i))))) for i in ['IBM'] * 5]"
   ]
  },
  {
   "cell_type": "code",
   "execution_count": 11,
   "metadata": {
    "collapsed": false
   },
   "outputs": [
    {
     "data": {
      "text/plain": [
       "['IBM 402',\n",
       " 'Object access method',\n",
       " 'IBM 1410',\n",
       " 'Windows Small Business Server',\n",
       " 'WebSphere Application Server for z/OS']"
      ]
     },
     "execution_count": 11,
     "metadata": {},
     "output_type": "execute_result"
    }
   ],
   "source": [
    "[jump(jump(jump(jump(jump(i, level=3), level=3), level=3), level=3), level=3) for i in ['IBM'] * 5]"
   ]
  },
  {
   "cell_type": "markdown",
   "metadata": {},
   "source": [
    "You should see, from the results above and from those of the queries that you yourself run, that the output of the cognitive graph is fairly tight: we can't even say definetively that it deteriorates significantly when we `explode()` at higher `level` parameters."
   ]
  },
  {
   "cell_type": "markdown",
   "metadata": {},
   "source": [
    "## Modeling techniques\n",
    "\n",
    "If you run the command above yourself you will also notice that though 15 queries doesn't sound like a lot it really piles on, especially once you start getting to higher level parameters: this query will take at least a minute to fully process. This is a key facet of modelling with `watsongraph`: the `Concept Insights` service, as brilliant as it is, is very time expensive. For this reason when constructing models using this service we actually want to *avoid* using it as much as possible: what that usually entails is backboning your graph locally, using other, faster data sources, and then only then expanding the connections amongst nodes to construct the graph.\n",
    "\n",
    "For our test usecase we will try to construct a \"corporate network\" showing the strength of the relationships amongst as many technology corporations as we can muster.\n",
    "\n",
    "The naive way of doing this would be to start with a simple model (say, `ConceptModel(['IBM'])`), `expand()` the graph, and then scrape the categorization of the associated Wikipedia pages (always remember that every concept is the name of a Wikipedia article!) in order to pare away all of the articles that were brought up where were not those belonging to companies. But though web scrapers working in the main are somewhat faster at generating results than the Concept Insight API but definetly not fast enough to not get bogged down when you give it the enormous volume of pages to process that this operation requires. Plus rate unlimited scraping is also highly discouraged by Wikipedia itself, and running large-volume queries for long periods of time is liable to get you in trouble with the webmasters.\n",
    "\n",
    "Let's time the naive way."
   ]
  },
  {
   "cell_type": "code",
   "execution_count": 21,
   "metadata": {
    "collapsed": true
   },
   "outputs": [],
   "source": [
    "import time\n",
    "import requests"
   ]
  },
  {
   "cell_type": "code",
   "execution_count": 7,
   "metadata": {
    "collapsed": false
   },
   "outputs": [
    {
     "data": {
      "text/plain": [
       "37"
      ]
     },
     "execution_count": 7,
     "metadata": {},
     "output_type": "execute_result"
    }
   ],
   "source": [
    "ibm = ConceptModel(['IBM'])\n",
    "ibm.explode(level=0)\n",
    "len(ibm.concepts())"
   ]
  },
  {
   "cell_type": "code",
   "execution_count": 47,
   "metadata": {
    "collapsed": false
   },
   "outputs": [
    {
     "name": "stdout",
     "output_type": "stream",
     "text": [
      "Runtime: 7.30610203742981 seconds.\n"
     ]
    },
    {
     "data": {
      "text/plain": [
       "[('Digital Equipment Corporation', 0.89564085),\n",
       " ('Advanced Micro Devices', 0.79349726),\n",
       " ('Sun Microsystems', 0.780642),\n",
       " ('Oracle Corporation', 0.7744718),\n",
       " ('Intel', 0.6541496),\n",
       " ('Hewlett-Packard', 0.6270959)]"
      ]
     },
     "execution_count": 47,
     "metadata": {},
     "output_type": "execute_result"
    }
   ],
   "source": [
    "def scraper_timer(func):\n",
    "    def wrapper(model, starting_point):\n",
    "        start_time = time.time()\n",
    "        ret = func(model, starting_point)\n",
    "        print(\"Runtime: \" + str(time.time() - start_time) + \" seconds.\")\n",
    "        return ret\n",
    "    return wrapper\n",
    "\n",
    "def categories_snapshot(concept):\n",
    "    dat = requests.get('https://en.wikipedia.org/wiki/' + concept).text\n",
    "    return dat[dat.find(\"<div id='catlinks' class='catlinks'>\"):]\n",
    "\n",
    "def select(t, name):\n",
    "    if t[1] == name:\n",
    "        return t[2]\n",
    "    else:\n",
    "        return t[1]\n",
    "\n",
    "@scraper_timer\n",
    "def get_companies_with_scraping(model, starting_point):\n",
    "    top = [(select(edge, 'IBM'), edge[0]) for edge in model.edges()]\n",
    "    top_companies = [concept for concept in top if 'companies' in categories_snapshot(concept[0])]\n",
    "    return top_companies\n",
    "\n",
    "get_companies_with_scraping(ibm, 'IBM')"
   ]
  },
  {
   "cell_type": "markdown",
   "metadata": {},
   "source": [
    "Let's adopt our paradigm. Wikipedia [has an API](https://www.mediawiki.org/wiki/API:Main_page). It's admittedly a bit crufty but it's very powerful way of retrieving only the information that you need and retrieving it in fast batches. We use the [mwapi](https://pypi.python.org/pypi/mwapi/0.4.0) library to avoid writing the access code: this is a low-level library that is good for writing fast queries (written by two active Wikimedia Foundation developers for exactly that purpose). You can read the documentation [here](http://pythonhosted.org/mwapi/). You can try out queries and get a sense of how the API works in the [API sandbox](https://en.wikipedia.org/wiki/Special:ApiSandbox)."
   ]
  },
  {
   "cell_type": "code",
   "execution_count": 24,
   "metadata": {
    "collapsed": true
   },
   "outputs": [],
   "source": [
    "import mwapi"
   ]
  },
  {
   "cell_type": "code",
   "execution_count": 49,
   "metadata": {
    "collapsed": false
   },
   "outputs": [
    {
     "ename": "AttributeError",
     "evalue": "'Session' object has no attribute 'keys'",
     "output_type": "error",
     "traceback": [
      "\u001b[0;31m---------------------------------------------------------------------------\u001b[0m",
      "\u001b[0;31mAttributeError\u001b[0m                            Traceback (most recent call last)",
      "\u001b[0;32m<ipython-input-49-5ee4b7aca56d>\u001b[0m in \u001b[0;36m<module>\u001b[0;34m()\u001b[0m\n\u001b[1;32m     35\u001b[0m         \u001b[0;32mreturn\u001b[0m \u001b[0mcompanies\u001b[0m\u001b[0;34m\u001b[0m\u001b[0m\n\u001b[1;32m     36\u001b[0m \u001b[0;34m\u001b[0m\u001b[0m\n\u001b[0;32m---> 37\u001b[0;31m \u001b[0mget_companies_with_api\u001b[0m\u001b[0;34m(\u001b[0m\u001b[0mConceptModel\u001b[0m\u001b[0;34m(\u001b[0m\u001b[0;34m'Apple'\u001b[0m\u001b[0;34m)\u001b[0m\u001b[0;34m)\u001b[0m\u001b[0;34m\u001b[0m\u001b[0m\n\u001b[0m",
      "\u001b[0;32m<ipython-input-49-5ee4b7aca56d>\u001b[0m in \u001b[0;36mwrapper\u001b[0;34m(model)\u001b[0m\n\u001b[1;32m      6\u001b[0m     \u001b[0;32mdef\u001b[0m \u001b[0mwrapper\u001b[0m\u001b[0;34m(\u001b[0m\u001b[0mmodel\u001b[0m\u001b[0;34m)\u001b[0m\u001b[0;34m:\u001b[0m\u001b[0;34m\u001b[0m\u001b[0m\n\u001b[1;32m      7\u001b[0m         \u001b[0mstart_time\u001b[0m \u001b[0;34m=\u001b[0m \u001b[0mtime\u001b[0m\u001b[0;34m.\u001b[0m\u001b[0mtime\u001b[0m\u001b[0;34m(\u001b[0m\u001b[0;34m)\u001b[0m\u001b[0;34m\u001b[0m\u001b[0m\n\u001b[0;32m----> 8\u001b[0;31m         \u001b[0mret\u001b[0m \u001b[0;34m=\u001b[0m \u001b[0mfunc\u001b[0m\u001b[0;34m(\u001b[0m\u001b[0mmodel\u001b[0m\u001b[0;34m)\u001b[0m\u001b[0;34m\u001b[0m\u001b[0m\n\u001b[0m\u001b[1;32m      9\u001b[0m         \u001b[0mprint\u001b[0m\u001b[0;34m(\u001b[0m\u001b[0;34m\"Runtime: \"\u001b[0m \u001b[0;34m+\u001b[0m \u001b[0mstr\u001b[0m\u001b[0;34m(\u001b[0m\u001b[0mtime\u001b[0m\u001b[0;34m.\u001b[0m\u001b[0mtime\u001b[0m\u001b[0;34m(\u001b[0m\u001b[0;34m)\u001b[0m \u001b[0;34m-\u001b[0m \u001b[0mstart_time\u001b[0m\u001b[0;34m)\u001b[0m \u001b[0;34m+\u001b[0m \u001b[0;34m\" seconds.\"\u001b[0m\u001b[0;34m)\u001b[0m\u001b[0;34m\u001b[0m\u001b[0m\n\u001b[1;32m     10\u001b[0m         \u001b[0;32mreturn\u001b[0m \u001b[0mret\u001b[0m\u001b[0;34m\u001b[0m\u001b[0m\n",
      "\u001b[0;32m<ipython-input-49-5ee4b7aca56d>\u001b[0m in \u001b[0;36mget_companies_with_api\u001b[0;34m(model)\u001b[0m\n\u001b[1;32m     29\u001b[0m                         \u001b[0mcompanies\u001b[0m\u001b[0;34m.\u001b[0m\u001b[0mappend\u001b[0m\u001b[0;34m(\u001b[0m\u001b[0mquery\u001b[0m\u001b[0;34m[\u001b[0m\u001b[0mp_k\u001b[0m\u001b[0;34m]\u001b[0m\u001b[0;34m[\u001b[0m\u001b[0;34m'title'\u001b[0m\u001b[0;34m]\u001b[0m\u001b[0;34m)\u001b[0m\u001b[0;34m\u001b[0m\u001b[0m\n\u001b[1;32m     30\u001b[0m                         \u001b[0;32mbreak\u001b[0m\u001b[0;34m\u001b[0m\u001b[0m\n\u001b[0;32m---> 31\u001b[0;31m         \u001b[0;32mif\u001b[0m \u001b[0;34m'batchcomplete'\u001b[0m \u001b[0;32min\u001b[0m \u001b[0msession\u001b[0m\u001b[0;34m.\u001b[0m\u001b[0mkeys\u001b[0m\u001b[0;34m(\u001b[0m\u001b[0;34m)\u001b[0m\u001b[0;34m:\u001b[0m\u001b[0;34m\u001b[0m\u001b[0m\n\u001b[0m\u001b[1;32m     32\u001b[0m             \u001b[0;32mbreak\u001b[0m\u001b[0;34m\u001b[0m\u001b[0m\n\u001b[1;32m     33\u001b[0m         \u001b[0;32melse\u001b[0m\u001b[0;34m:\u001b[0m\u001b[0;34m\u001b[0m\u001b[0m\n",
      "\u001b[0;31mAttributeError\u001b[0m: 'Session' object has no attribute 'keys'"
     ]
    }
   ],
   "source": [
    "session = mwapi.Session('https://en.wikipedia.org', user_agent='watsongraph notebook')\n",
    "\n",
    "a = ConceptModel(['Apple'])\n",
    "\n",
    "def api_timer(func):\n",
    "    def wrapper(model):\n",
    "        start_time = time.time()\n",
    "        ret = func(model)\n",
    "        print(\"Runtime: \" + str(time.time() - start_time) + \" seconds.\")\n",
    "        return ret\n",
    "    return wrapper\n",
    "\n",
    "@api_timer\n",
    "def get_companies_with_api(model):\n",
    "    companies = []\n",
    "    cont = \"\"\n",
    "    while True:\n",
    "        raw = session.get(action='query',\n",
    "                          prop='categories',\n",
    "                          clshow='!hidden',\n",
    "                          cllimit=500,\n",
    "                          titles='|'.join(model.concepts()),\n",
    "                          clcontinue=cont)\n",
    "        query = raw['query']['pages']\n",
    "        for p_k in query.keys():\n",
    "            if query[p_k]['title'] not in companies:\n",
    "                for cat in query[p_k]['categories']:\n",
    "                    if 'companies' in cat['title']:\n",
    "                        companies.append(query[p_k]['title'])\n",
    "                        break\n",
    "        if 'batchcomplete' in session.keys():\n",
    "            break\n",
    "        else:\n",
    "            cont = raw['clcontinue']\n",
    "        return companies\n",
    "\n",
    "get_companies_with_api(ConceptModel('Apple'))"
   ]
  },
  {
   "cell_type": "markdown",
   "metadata": {},
   "source": [
    "Let's put together a more advanced ConceptModel usecase.\n",
    "\n",
    "In this notebook we will put together a quick script for constructing a diagram of a \"corporate network\" linking together a list of companies branched out from IBM, our starting point."
   ]
  },
  {
   "cell_type": "markdown",
   "metadata": {},
   "source": [
    "We need some way of categorizing concepts according to whether or not they are companies. The following trick works well enough for our purposes, though as we shall see later, it's by no means foolproof."
   ]
  },
  {
   "cell_type": "code",
   "execution_count": 103,
   "metadata": {
    "collapsed": false
   },
   "outputs": [],
   "source": [
    "def categories_snapshot(concept):\n",
    "    dat = requests.get('https://en.wikipedia.org/wiki/' + concept).text\n",
    "    return dat[dat.find(\"<div id='catlinks' class='catlinks'>\"):]"
   ]
  },
  {
   "cell_type": "code",
   "execution_count": 104,
   "metadata": {
    "collapsed": false
   },
   "outputs": [
    {
     "data": {
      "text/plain": [
       "True"
      ]
     },
     "execution_count": 104,
     "metadata": {},
     "output_type": "execute_result"
    }
   ],
   "source": [
    "'companies' in categories_snapshot('IBM')"
   ]
  },
  {
   "cell_type": "code",
   "execution_count": 105,
   "metadata": {
    "collapsed": true
   },
   "outputs": [],
   "source": [
    "def companies(l):\n",
    "    ret = []\n",
    "    for item in l:\n",
    "        if 'companies' in categories_snapshot(item):\n",
    "            ret.append(item)\n",
    "    return ret"
   ]
  },
  {
   "cell_type": "code",
   "execution_count": 106,
   "metadata": {
    "collapsed": false
   },
   "outputs": [
    {
     "data": {
      "text/plain": [
       "['IBM', 'Microsoft', 'Apple Inc.']"
      ]
     },
     "execution_count": 106,
     "metadata": {},
     "output_type": "execute_result"
    }
   ],
   "source": [
    "companies(['IBM', 'Microsoft', 'Apple', 'Apple Inc.', 'Apple pie'])"
   ]
  },
  {
   "cell_type": "markdown",
   "metadata": {},
   "source": [
    "Each step that we take we will need to:\n",
    "\n",
    "1. Augment the new nodes in the graph.\n",
    "2. Pare the resulting graph down to companies.\n",
    "\n",
    "Along the way we also need to keep track of the nodes that we've already augmented, so as not to waste time reaugmenting nodes that we've already augmented before."
   ]
  },
  {
   "cell_type": "code",
   "execution_count": 107,
   "metadata": {
    "collapsed": true
   },
   "outputs": [],
   "source": [
    "expanded_concepts = []\n",
    "\n",
    "def iter_model(G):\n",
    "    for concept in [concept for concept in G.concepts() if concept not in expanded_concepts]:\n",
    "        G.augment(concept)\n",
    "        expanded_concepts.append(concept)\n",
    "    return G"
   ]
  },
  {
   "cell_type": "code",
   "execution_count": 108,
   "metadata": {
    "collapsed": false
   },
   "outputs": [
    {
     "data": {
      "text/plain": [
       "['.NET Framework',\n",
       " 'ARM architecture',\n",
       " 'Advanced Micro Devices',\n",
       " 'Application programming interface',\n",
       " 'Berkeley Software Distribution',\n",
       " 'C (programming language)',\n",
       " 'Central processing unit',\n",
       " 'Cloud computing',\n",
       " 'Compiler',\n",
       " 'Digital Equipment Corporation',\n",
       " 'Fortran',\n",
       " 'FreeBSD',\n",
       " 'Graphical user interface',\n",
       " 'Hard disk drive',\n",
       " 'Hewlett-Packard',\n",
       " 'IBM',\n",
       " 'Intel',\n",
       " 'Java (programming language)',\n",
       " 'Library (computing)',\n",
       " 'Linux',\n",
       " 'Microprocessor',\n",
       " 'MySQL',\n",
       " 'Object-oriented programming',\n",
       " 'Operating system',\n",
       " 'Oracle Corporation',\n",
       " 'Programming language',\n",
       " 'SQL',\n",
       " 'Server (computing)',\n",
       " 'Solaris (operating system)',\n",
       " 'Sun Microsystems',\n",
       " 'Supercomputer',\n",
       " 'Unix',\n",
       " 'Unix-like',\n",
       " 'X Window System',\n",
       " 'X86',\n",
       " 'X86-64',\n",
       " 'XML']"
      ]
     },
     "execution_count": 108,
     "metadata": {},
     "output_type": "execute_result"
    }
   ],
   "source": [
    "ibm = ConceptModel(['IBM'])\n",
    "ibm = iter_model(ibm)\n",
    "ibm.concepts()"
   ]
  },
  {
   "cell_type": "code",
   "execution_count": 109,
   "metadata": {
    "collapsed": false
   },
   "outputs": [],
   "source": [
    "def reduce_model(G):\n",
    "    cmp = companies(ibm.concepts())\n",
    "    for concept in [concept for concept in G.concepts() if concept not in cmp]:\n",
    "        G.remove(concept)\n",
    "    return G"
   ]
  },
  {
   "cell_type": "code",
   "execution_count": 110,
   "metadata": {
    "collapsed": false
   },
   "outputs": [],
   "source": [
    "ibm = reduce_model(ibm)"
   ]
  },
  {
   "cell_type": "code",
   "execution_count": 111,
   "metadata": {
    "collapsed": false
   },
   "outputs": [
    {
     "data": {
      "text/plain": [
       "['Advanced Micro Devices',\n",
       " 'Digital Equipment Corporation',\n",
       " 'Hewlett-Packard',\n",
       " 'IBM',\n",
       " 'Intel',\n",
       " 'Oracle Corporation',\n",
       " 'Sun Microsystems']"
      ]
     },
     "execution_count": 111,
     "metadata": {},
     "output_type": "execute_result"
    }
   ],
   "source": [
    "ibm.concepts()"
   ]
  },
  {
   "cell_type": "markdown",
   "metadata": {},
   "source": [
    "Let's stitch our two operations together and try it out!"
   ]
  },
  {
   "cell_type": "code",
   "execution_count": 118,
   "metadata": {
    "collapsed": false
   },
   "outputs": [],
   "source": [
    "def step(G):\n",
    "    return reduce_model(iter_model(G))"
   ]
  },
  {
   "cell_type": "code",
   "execution_count": 119,
   "metadata": {
    "collapsed": false
   },
   "outputs": [],
   "source": [
    "corporate_network = step(ibm)"
   ]
  },
  {
   "cell_type": "code",
   "execution_count": 120,
   "metadata": {
    "collapsed": false
   },
   "outputs": [
    {
     "data": {
      "text/plain": [
       "['Advanced Micro Devices',\n",
       " 'Apple Inc.',\n",
       " 'Cisco Systems',\n",
       " 'Dell',\n",
       " 'Digital Equipment Corporation',\n",
       " 'Hewlett-Packard',\n",
       " 'IBM',\n",
       " 'Intel',\n",
       " 'List of mobile network operators of Europe',\n",
       " 'Motorola',\n",
       " 'Nokia',\n",
       " 'Oracle Corporation',\n",
       " 'Samsung',\n",
       " 'Sun Microsystems',\n",
       " 'Texas Instruments',\n",
       " 'Vodafone']"
      ]
     },
     "execution_count": 120,
     "metadata": {},
     "output_type": "execute_result"
    }
   ],
   "source": [
    "corporate_network.concepts()"
   ]
  },
  {
   "cell_type": "code",
   "execution_count": 128,
   "metadata": {
    "collapsed": false
   },
   "outputs": [],
   "source": [
    "corporate_network = step(step(corporate_network))"
   ]
  },
  {
   "cell_type": "code",
   "execution_count": 129,
   "metadata": {
    "collapsed": false
   },
   "outputs": [
    {
     "data": {
      "text/plain": [
       "['AT&T',\n",
       " 'Advanced Micro Devices',\n",
       " 'Apple Inc.',\n",
       " 'Avex Group',\n",
       " 'Capcom',\n",
       " 'Cisco Systems',\n",
       " 'Comcast',\n",
       " 'Dell',\n",
       " 'Digital Equipment Corporation',\n",
       " 'Fuji Television',\n",
       " 'Goldman Sachs',\n",
       " 'Hewlett-Packard',\n",
       " 'Hudson Soft',\n",
       " 'IBM',\n",
       " 'Intel',\n",
       " 'Konami',\n",
       " 'Korean Broadcasting System',\n",
       " 'List of mobile network operators of Europe',\n",
       " 'London Stock Exchange',\n",
       " 'Motorola',\n",
       " 'NASDAQ',\n",
       " 'Namco',\n",
       " 'New York Stock Exchange',\n",
       " 'Nokia',\n",
       " 'Oracle Corporation',\n",
       " 'Oricon',\n",
       " 'Philips',\n",
       " 'Public company',\n",
       " 'Samsung',\n",
       " 'Sega',\n",
       " 'Seoul Broadcasting System',\n",
       " 'Siemens',\n",
       " 'Sony',\n",
       " 'Sony Computer Entertainment',\n",
       " 'Sony Music Entertainment Japan',\n",
       " 'Sun Microsystems',\n",
       " 'THQ',\n",
       " 'Tesco',\n",
       " 'Texas Instruments',\n",
       " 'Ubisoft',\n",
       " 'Vodafone']"
      ]
     },
     "execution_count": 129,
     "metadata": {},
     "output_type": "execute_result"
    }
   ],
   "source": [
    "corporate_network.concepts()"
   ]
  },
  {
   "cell_type": "code",
   "execution_count": 130,
   "metadata": {
    "collapsed": false
   },
   "outputs": [
    {
     "data": {
      "text/plain": [
       "['IBM',\n",
       " 'Advanced Micro Devices',\n",
       " 'Digital Equipment Corporation',\n",
       " 'Hewlett-Packard',\n",
       " 'Intel',\n",
       " 'Apple Inc.',\n",
       " 'Cisco Systems',\n",
       " 'Dell',\n",
       " 'Motorola',\n",
       " 'Oracle Corporation',\n",
       " 'Sun Microsystems',\n",
       " 'Texas Instruments',\n",
       " 'Nokia',\n",
       " 'Samsung',\n",
       " 'Vodafone',\n",
       " 'AT&T',\n",
       " 'Korean Broadcasting System',\n",
       " 'List of mobile network operators of Europe',\n",
       " 'London Stock Exchange',\n",
       " 'Seoul Broadcasting System',\n",
       " 'Sony']"
      ]
     },
     "execution_count": 130,
     "metadata": {},
     "output_type": "execute_result"
    }
   ],
   "source": [
    "expanded_concepts"
   ]
  },
  {
   "cell_type": "markdown",
   "metadata": {},
   "source": [
    "Let's get greedy."
   ]
  },
  {
   "cell_type": "code",
   "execution_count": 131,
   "metadata": {
    "collapsed": true
   },
   "outputs": [],
   "source": [
    "corporate_network = step(step(step(step(step(corporate_network)))))"
   ]
  },
  {
   "cell_type": "code",
   "execution_count": 133,
   "metadata": {
    "collapsed": false
   },
   "outputs": [
    {
     "data": {
      "text/plain": [
       "107"
      ]
     },
     "execution_count": 133,
     "metadata": {},
     "output_type": "execute_result"
    }
   ],
   "source": [
    "len(corporate_network.concepts())"
   ]
  },
  {
   "cell_type": "code",
   "execution_count": 136,
   "metadata": {
    "collapsed": false
   },
   "outputs": [
    {
     "data": {
      "text/plain": [
       "[(0.9743249, 'London and North Eastern Railway', 'North Eastern Railway (UK)'),\n",
       " (0.9730256, 'Caledonian Railway', 'First ScotRail'),\n",
       " (0.97047436, 'Great Eastern Railway', 'London and North Eastern Railway'),\n",
       " (0.96971184, 'Advanced Micro Devices', 'Intel'),\n",
       " (0.9661626, 'Great Northern Railway (Great Britain)', 'Midland Railway'),\n",
       " (0.9650179, 'Shogakukan', 'Viz Media'),\n",
       " (0.964935,\n",
       "  'London and North Eastern Railway',\n",
       "  'Great Northern Railway (Great Britain)'),\n",
       " (0.9637322, 'Korean Broadcasting System', 'Seoul Broadcasting System'),\n",
       " (0.9636774, 'Vodafone', 'List of mobile network operators of Europe'),\n",
       " (0.9593524, 'First Great Western', 'Network Rail'),\n",
       " (0.95859057,\n",
       "  'Great Northern Railway (Great Britain)',\n",
       "  'North Eastern Railway (UK)'),\n",
       " (0.9582207, 'First Great Western', 'Great Western Railway'),\n",
       " (0.95611596, 'Hudson Soft', 'Nintendo'),\n",
       " (0.95601696, 'London and North Western Railway', 'Midland Railway'),\n",
       " (0.94842815,\n",
       "  'Great Northern Railway (Great Britain)',\n",
       "  'London and North Western Railway'),\n",
       " (0.9483763,\n",
       "  'Great Eastern Railway',\n",
       "  'Great Northern Railway (Great Britain)'),\n",
       " (0.9482551, 'Shueisha', 'Viz Media'),\n",
       " (0.9447612, 'Konami', 'Hudson Soft'),\n",
       " (0.9445219, 'Midway Games', 'Namco'),\n",
       " (0.94358486, 'Hudson Soft', 'Namco')]"
      ]
     },
     "execution_count": 136,
     "metadata": {},
     "output_type": "execute_result"
    }
   ],
   "source": [
    "corporate_network.edges()[:20]"
   ]
  },
  {
   "cell_type": "markdown",
   "metadata": {},
   "source": [
    "We will stop here for now."
   ]
  },
  {
   "cell_type": "code",
   "execution_count": 140,
   "metadata": {
    "collapsed": false
   },
   "outputs": [
    {
     "data": {
      "text/plain": [
       "[('Fuji Television', 0.65638936),\n",
       " ('Sony Music Entertainment Japan', 0.60574347),\n",
       " ('TV Tokyo', 0.78721863),\n",
       " ('Avex Group', 0.50190413),\n",
       " ('Bandai', 0.5434743),\n",
       " ('Kodansha', 0.80848604),\n",
       " ('TV Asahi', 0.61470026),\n",
       " ('Tokyopop', 0.8365715),\n",
       " ('Square Enix', 0.51347756),\n",
       " ('Shueisha', 0.9482551),\n",
       " ('Shogakukan', 0.9650179),\n",
       " ('Viz Media', 1)]"
      ]
     },
     "execution_count": 140,
     "metadata": {},
     "output_type": "execute_result"
    }
   ],
   "source": [
    "corporate_network.neighborhood('Viz Media')"
   ]
  },
  {
   "cell_type": "markdown",
   "metadata": {},
   "source": [
    "Daily page views are a bit of feature sugar that comes prebuilt in the `watsongraph` library. This data is based on a 30-day average, and is generated by a call against the (just recently introduced!) [Wikipedia Pageview API](https://wikimedia.org/api/rest_v1/?doc).\n",
    "\n",
    "These are a significant additional overhead on execution time and so are not instantiated for you, but you can do it yourself at any time using the `set_view_counts()` method. `concepts_by_view_count()` is useful for visualizing the result."
   ]
  },
  {
   "cell_type": "code",
   "execution_count": null,
   "metadata": {
    "collapsed": true
   },
   "outputs": [],
   "source": [
    "# Daily page views are a bit of sugar built into the watson-graph library.\n",
    "# This data is based on a 30-day average, and is generated by a call against the appropriate Wikipedia API.\n",
    "# Note that because they are a significant additional overhead you have to instantiate them yourself!\n",
    "kr = ConceptModel(kinda_random)\n",
    "kr.set_view_counts()\n",
    "kr.concepts_by_view_count()"
   ]
  },
  {
   "cell_type": "markdown",
   "metadata": {},
   "source": [
    "One last technical pointer: `watsongraph` provides default bindings for saving to and loading from `JSON`. These are in the form of the alternating `to_json()` and `from_json()` object methods, and are useful for saving and loading your models, if so desired."
   ]
  },
  {
   "cell_type": "code",
   "execution_count": null,
   "metadata": {
    "collapsed": true
   },
   "outputs": [],
   "source": [
    "kr.to_json()"
   ]
  }
 ],
 "metadata": {
  "kernelspec": {
   "display_name": "Python 3",
   "language": "python",
   "name": "python3"
  },
  "language_info": {
   "codemirror_mode": {
    "name": "ipython",
    "version": 3
   },
   "file_extension": ".py",
   "mimetype": "text/x-python",
   "name": "python",
   "nbconvert_exporter": "python",
   "pygments_lexer": "ipython3",
   "version": "3.4.3"
  }
 },
 "nbformat": 4,
 "nbformat_minor": 0
}
