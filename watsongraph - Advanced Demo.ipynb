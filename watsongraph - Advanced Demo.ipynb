{
 "cells": [
  {
   "cell_type": "markdown",
   "metadata": {},
   "source": [
    "Let's put together a more advanced ConceptModel usecase.\n",
    "\n",
    "In this notebook we will put together a quick script for constructing a diagram of a \"corporate network\" linking together a list of companies branched out from IBM, our starting point."
   ]
  },
  {
   "cell_type": "code",
   "execution_count": 102,
   "metadata": {
    "collapsed": false
   },
   "outputs": [],
   "source": [
    "from watsongraph.conceptmodel import ConceptModel\n",
    "import time\n",
    "import requests"
   ]
  },
  {
   "cell_type": "markdown",
   "metadata": {},
   "source": [
    "We need some way of categorizing concepts according to whether or not they are companies. The following trick works well enough for our purposes, though as we shall see later, it's by no means foolproof."
   ]
  },
  {
   "cell_type": "code",
   "execution_count": 103,
   "metadata": {
    "collapsed": false
   },
   "outputs": [],
   "source": [
    "def categories_snapshot(concept):\n",
    "    dat = requests.get('https://en.wikipedia.org/wiki/' + concept).text\n",
    "    return dat[dat.find(\"<div id='catlinks' class='catlinks'>\"):]"
   ]
  },
  {
   "cell_type": "code",
   "execution_count": 104,
   "metadata": {
    "collapsed": false
   },
   "outputs": [
    {
     "data": {
      "text/plain": [
       "True"
      ]
     },
     "execution_count": 104,
     "metadata": {},
     "output_type": "execute_result"
    }
   ],
   "source": [
    "'companies' in categories_snapshot('IBM')"
   ]
  },
  {
   "cell_type": "code",
   "execution_count": 105,
   "metadata": {
    "collapsed": true
   },
   "outputs": [],
   "source": [
    "def companies(l):\n",
    "    ret = []\n",
    "    for item in l:\n",
    "        if 'companies' in categories_snapshot(item):\n",
    "            ret.append(item)\n",
    "    return ret"
   ]
  },
  {
   "cell_type": "code",
   "execution_count": 106,
   "metadata": {
    "collapsed": false
   },
   "outputs": [
    {
     "data": {
      "text/plain": [
       "['IBM', 'Microsoft', 'Apple Inc.']"
      ]
     },
     "execution_count": 106,
     "metadata": {},
     "output_type": "execute_result"
    }
   ],
   "source": [
    "companies(['IBM', 'Microsoft', 'Apple', 'Apple Inc.', 'Apple pie'])"
   ]
  },
  {
   "cell_type": "markdown",
   "metadata": {},
   "source": [
    "Each step that we take we will need to:\n",
    "\n",
    "1. Augment the new nodes in the graph.\n",
    "2. Pare the resulting graph down to companies.\n",
    "\n",
    "Along the way we also need to keep track of the nodes that we've already augmented, so as not to waste time reaugmenting nodes that we've already augmented before."
   ]
  },
  {
   "cell_type": "code",
   "execution_count": 107,
   "metadata": {
    "collapsed": true
   },
   "outputs": [],
   "source": [
    "expanded_concepts = []\n",
    "\n",
    "def iter_model(G):\n",
    "    for concept in [concept for concept in G.concepts() if concept not in expanded_concepts]:\n",
    "        G.augment(concept)\n",
    "        expanded_concepts.append(concept)\n",
    "    return G"
   ]
  },
  {
   "cell_type": "code",
   "execution_count": 108,
   "metadata": {
    "collapsed": false
   },
   "outputs": [
    {
     "data": {
      "text/plain": [
       "['.NET Framework',\n",
       " 'ARM architecture',\n",
       " 'Advanced Micro Devices',\n",
       " 'Application programming interface',\n",
       " 'Berkeley Software Distribution',\n",
       " 'C (programming language)',\n",
       " 'Central processing unit',\n",
       " 'Cloud computing',\n",
       " 'Compiler',\n",
       " 'Digital Equipment Corporation',\n",
       " 'Fortran',\n",
       " 'FreeBSD',\n",
       " 'Graphical user interface',\n",
       " 'Hard disk drive',\n",
       " 'Hewlett-Packard',\n",
       " 'IBM',\n",
       " 'Intel',\n",
       " 'Java (programming language)',\n",
       " 'Library (computing)',\n",
       " 'Linux',\n",
       " 'Microprocessor',\n",
       " 'MySQL',\n",
       " 'Object-oriented programming',\n",
       " 'Operating system',\n",
       " 'Oracle Corporation',\n",
       " 'Programming language',\n",
       " 'SQL',\n",
       " 'Server (computing)',\n",
       " 'Solaris (operating system)',\n",
       " 'Sun Microsystems',\n",
       " 'Supercomputer',\n",
       " 'Unix',\n",
       " 'Unix-like',\n",
       " 'X Window System',\n",
       " 'X86',\n",
       " 'X86-64',\n",
       " 'XML']"
      ]
     },
     "execution_count": 108,
     "metadata": {},
     "output_type": "execute_result"
    }
   ],
   "source": [
    "ibm = ConceptModel(['IBM'])\n",
    "ibm = iter_model(ibm)\n",
    "ibm.concepts()"
   ]
  },
  {
   "cell_type": "code",
   "execution_count": 109,
   "metadata": {
    "collapsed": false
   },
   "outputs": [],
   "source": [
    "def reduce_model(G):\n",
    "    cmp = companies(ibm.concepts())\n",
    "    for concept in [concept for concept in G.concepts() if concept not in cmp]:\n",
    "        G.remove(concept)\n",
    "    return G"
   ]
  },
  {
   "cell_type": "code",
   "execution_count": 110,
   "metadata": {
    "collapsed": false
   },
   "outputs": [],
   "source": [
    "ibm = reduce_model(ibm)"
   ]
  },
  {
   "cell_type": "code",
   "execution_count": 111,
   "metadata": {
    "collapsed": false
   },
   "outputs": [
    {
     "data": {
      "text/plain": [
       "['Advanced Micro Devices',\n",
       " 'Digital Equipment Corporation',\n",
       " 'Hewlett-Packard',\n",
       " 'IBM',\n",
       " 'Intel',\n",
       " 'Oracle Corporation',\n",
       " 'Sun Microsystems']"
      ]
     },
     "execution_count": 111,
     "metadata": {},
     "output_type": "execute_result"
    }
   ],
   "source": [
    "ibm.concepts()"
   ]
  },
  {
   "cell_type": "markdown",
   "metadata": {},
   "source": [
    "Let's stitch our two operations together and try it out!"
   ]
  },
  {
   "cell_type": "code",
   "execution_count": 118,
   "metadata": {
    "collapsed": false
   },
   "outputs": [],
   "source": [
    "def step(G):\n",
    "    return reduce_model(iter_model(G))"
   ]
  },
  {
   "cell_type": "code",
   "execution_count": 119,
   "metadata": {
    "collapsed": false
   },
   "outputs": [],
   "source": [
    "corporate_network = step(ibm)"
   ]
  },
  {
   "cell_type": "code",
   "execution_count": 120,
   "metadata": {
    "collapsed": false
   },
   "outputs": [
    {
     "data": {
      "text/plain": [
       "['Advanced Micro Devices',\n",
       " 'Apple Inc.',\n",
       " 'Cisco Systems',\n",
       " 'Dell',\n",
       " 'Digital Equipment Corporation',\n",
       " 'Hewlett-Packard',\n",
       " 'IBM',\n",
       " 'Intel',\n",
       " 'List of mobile network operators of Europe',\n",
       " 'Motorola',\n",
       " 'Nokia',\n",
       " 'Oracle Corporation',\n",
       " 'Samsung',\n",
       " 'Sun Microsystems',\n",
       " 'Texas Instruments',\n",
       " 'Vodafone']"
      ]
     },
     "execution_count": 120,
     "metadata": {},
     "output_type": "execute_result"
    }
   ],
   "source": [
    "corporate_network.concepts()"
   ]
  },
  {
   "cell_type": "code",
   "execution_count": 128,
   "metadata": {
    "collapsed": false
   },
   "outputs": [],
   "source": [
    "corporate_network = step(step(corporate_network))"
   ]
  },
  {
   "cell_type": "code",
   "execution_count": 129,
   "metadata": {
    "collapsed": false
   },
   "outputs": [
    {
     "data": {
      "text/plain": [
       "['AT&T',\n",
       " 'Advanced Micro Devices',\n",
       " 'Apple Inc.',\n",
       " 'Avex Group',\n",
       " 'Capcom',\n",
       " 'Cisco Systems',\n",
       " 'Comcast',\n",
       " 'Dell',\n",
       " 'Digital Equipment Corporation',\n",
       " 'Fuji Television',\n",
       " 'Goldman Sachs',\n",
       " 'Hewlett-Packard',\n",
       " 'Hudson Soft',\n",
       " 'IBM',\n",
       " 'Intel',\n",
       " 'Konami',\n",
       " 'Korean Broadcasting System',\n",
       " 'List of mobile network operators of Europe',\n",
       " 'London Stock Exchange',\n",
       " 'Motorola',\n",
       " 'NASDAQ',\n",
       " 'Namco',\n",
       " 'New York Stock Exchange',\n",
       " 'Nokia',\n",
       " 'Oracle Corporation',\n",
       " 'Oricon',\n",
       " 'Philips',\n",
       " 'Public company',\n",
       " 'Samsung',\n",
       " 'Sega',\n",
       " 'Seoul Broadcasting System',\n",
       " 'Siemens',\n",
       " 'Sony',\n",
       " 'Sony Computer Entertainment',\n",
       " 'Sony Music Entertainment Japan',\n",
       " 'Sun Microsystems',\n",
       " 'THQ',\n",
       " 'Tesco',\n",
       " 'Texas Instruments',\n",
       " 'Ubisoft',\n",
       " 'Vodafone']"
      ]
     },
     "execution_count": 129,
     "metadata": {},
     "output_type": "execute_result"
    }
   ],
   "source": [
    "corporate_network.concepts()"
   ]
  },
  {
   "cell_type": "code",
   "execution_count": 130,
   "metadata": {
    "collapsed": false
   },
   "outputs": [
    {
     "data": {
      "text/plain": [
       "['IBM',\n",
       " 'Advanced Micro Devices',\n",
       " 'Digital Equipment Corporation',\n",
       " 'Hewlett-Packard',\n",
       " 'Intel',\n",
       " 'Apple Inc.',\n",
       " 'Cisco Systems',\n",
       " 'Dell',\n",
       " 'Motorola',\n",
       " 'Oracle Corporation',\n",
       " 'Sun Microsystems',\n",
       " 'Texas Instruments',\n",
       " 'Nokia',\n",
       " 'Samsung',\n",
       " 'Vodafone',\n",
       " 'AT&T',\n",
       " 'Korean Broadcasting System',\n",
       " 'List of mobile network operators of Europe',\n",
       " 'London Stock Exchange',\n",
       " 'Seoul Broadcasting System',\n",
       " 'Sony']"
      ]
     },
     "execution_count": 130,
     "metadata": {},
     "output_type": "execute_result"
    }
   ],
   "source": [
    "expanded_concepts"
   ]
  },
  {
   "cell_type": "markdown",
   "metadata": {},
   "source": [
    "Let's get greedy."
   ]
  },
  {
   "cell_type": "code",
   "execution_count": 131,
   "metadata": {
    "collapsed": true
   },
   "outputs": [],
   "source": [
    "corporate_network = step(step(step(step(step(corporate_network)))))"
   ]
  },
  {
   "cell_type": "code",
   "execution_count": 133,
   "metadata": {
    "collapsed": false
   },
   "outputs": [
    {
     "data": {
      "text/plain": [
       "107"
      ]
     },
     "execution_count": 133,
     "metadata": {},
     "output_type": "execute_result"
    }
   ],
   "source": [
    "len(corporate_network.concepts())"
   ]
  },
  {
   "cell_type": "code",
   "execution_count": 136,
   "metadata": {
    "collapsed": false
   },
   "outputs": [
    {
     "data": {
      "text/plain": [
       "[(0.9743249, 'London and North Eastern Railway', 'North Eastern Railway (UK)'),\n",
       " (0.9730256, 'Caledonian Railway', 'First ScotRail'),\n",
       " (0.97047436, 'Great Eastern Railway', 'London and North Eastern Railway'),\n",
       " (0.96971184, 'Advanced Micro Devices', 'Intel'),\n",
       " (0.9661626, 'Great Northern Railway (Great Britain)', 'Midland Railway'),\n",
       " (0.9650179, 'Shogakukan', 'Viz Media'),\n",
       " (0.964935,\n",
       "  'London and North Eastern Railway',\n",
       "  'Great Northern Railway (Great Britain)'),\n",
       " (0.9637322, 'Korean Broadcasting System', 'Seoul Broadcasting System'),\n",
       " (0.9636774, 'Vodafone', 'List of mobile network operators of Europe'),\n",
       " (0.9593524, 'First Great Western', 'Network Rail'),\n",
       " (0.95859057,\n",
       "  'Great Northern Railway (Great Britain)',\n",
       "  'North Eastern Railway (UK)'),\n",
       " (0.9582207, 'First Great Western', 'Great Western Railway'),\n",
       " (0.95611596, 'Hudson Soft', 'Nintendo'),\n",
       " (0.95601696, 'London and North Western Railway', 'Midland Railway'),\n",
       " (0.94842815,\n",
       "  'Great Northern Railway (Great Britain)',\n",
       "  'London and North Western Railway'),\n",
       " (0.9483763,\n",
       "  'Great Eastern Railway',\n",
       "  'Great Northern Railway (Great Britain)'),\n",
       " (0.9482551, 'Shueisha', 'Viz Media'),\n",
       " (0.9447612, 'Konami', 'Hudson Soft'),\n",
       " (0.9445219, 'Midway Games', 'Namco'),\n",
       " (0.94358486, 'Hudson Soft', 'Namco')]"
      ]
     },
     "execution_count": 136,
     "metadata": {},
     "output_type": "execute_result"
    }
   ],
   "source": [
    "corporate_network.edges()[:20]"
   ]
  },
  {
   "cell_type": "markdown",
   "metadata": {},
   "source": [
    "We will stop here for now."
   ]
  },
  {
   "cell_type": "code",
   "execution_count": 140,
   "metadata": {
    "collapsed": false
   },
   "outputs": [
    {
     "data": {
      "text/plain": [
       "[('Fuji Television', 0.65638936),\n",
       " ('Sony Music Entertainment Japan', 0.60574347),\n",
       " ('TV Tokyo', 0.78721863),\n",
       " ('Avex Group', 0.50190413),\n",
       " ('Bandai', 0.5434743),\n",
       " ('Kodansha', 0.80848604),\n",
       " ('TV Asahi', 0.61470026),\n",
       " ('Tokyopop', 0.8365715),\n",
       " ('Square Enix', 0.51347756),\n",
       " ('Shueisha', 0.9482551),\n",
       " ('Shogakukan', 0.9650179),\n",
       " ('Viz Media', 1)]"
      ]
     },
     "execution_count": 140,
     "metadata": {},
     "output_type": "execute_result"
    }
   ],
   "source": [
    "corporate_network.neighborhood('Viz Media')"
   ]
  }
 ],
 "metadata": {
  "kernelspec": {
   "display_name": "Python 3",
   "language": "python",
   "name": "python3"
  },
  "language_info": {
   "codemirror_mode": {
    "name": "ipython",
    "version": 3
   },
   "file_extension": ".py",
   "mimetype": "text/x-python",
   "name": "python",
   "nbconvert_exporter": "python",
   "pygments_lexer": "ipython3",
   "version": "3.4.3"
  }
 },
 "nbformat": 4,
 "nbformat_minor": 0
}
