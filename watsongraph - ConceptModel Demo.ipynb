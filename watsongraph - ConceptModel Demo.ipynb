{
 "cells": [
  {
   "cell_type": "code",
   "execution_count": 1,
   "metadata": {},
   "outputs": [],
   "source": [
    "from watsongraph.conceptmodel import ConceptModel\n",
    "import requests\n",
    "import random"
   ]
  },
  {
   "cell_type": "code",
   "execution_count": 2,
   "metadata": {},
   "outputs": [
    {
     "data": {
      "text/plain": [
       "['IBM']"
      ]
     },
     "execution_count": 2,
     "output_type": "execute_result",
     "metadata": {}
    }
   ],
   "source": [
    "# When we create a new ConceptModel we pass a list of concepts to be initialized.\n",
    "# We can use the concepts() method to check up on how many concepts we have inserted so far.\n",
    "ibm = ConceptModel(['IBM'])\n",
    "ibm.concepts()"
   ]
  },
  {
   "cell_type": "code",
   "execution_count": 3,
   "metadata": {},
   "outputs": [
    {
     "data": {
      "text/plain": [
       "37"
      ]
     },
     "execution_count": 3,
     "output_type": "execute_result",
     "metadata": {}
    }
   ],
   "source": [
    "# All of the graph-expansion methods in this library pass calls to the IBM Watson API.\n",
    "# To keep the information firehose at a managable level the API defines a numerical \"limit\" and an article-view \"level\".\n",
    "# 0 is the highest level, corresponding with the most important articles. Levels ranging from 0 to 5.\n",
    "# The limit on the other hand is theoretically infinite. Queries will be returned in order of importance!\n",
    "# Let's take our graph (really only a single node) and call explode() on it.\n",
    "# Explode augments every node in the graph with a new query. How many results do we get from a level 0 query?\n",
    "ibm.explode(limit=2000, level=0)\n",
    "len(ibm.concepts())"
   ]
  },
  {
   "cell_type": "code",
   "execution_count": 4,
   "metadata": {},
   "outputs": [
    {
     "data": {
      "text/plain": [
       "[(0.89564085, 'IBM', 'Digital Equipment Corporation'),\n",
       " (0.8213564, 'IBM', 'X86'),\n",
       " (0.8081631, 'IBM', 'Fortran'),\n",
       " (0.80571836, 'IBM', 'Solaris (operating system)'),\n",
       " (0.803906, 'IBM', 'SQL'),\n",
       " (0.79933375, 'Supercomputer', 'IBM'),\n",
       " (0.79717726, 'IBM', 'X86-64'),\n",
       " (0.79349726, 'Advanced Micro Devices', 'IBM'),\n",
       " (0.780642, 'IBM', 'Sun Microsystems'),\n",
       " (0.7744718, 'IBM', 'Oracle Corporation'),\n",
       " (0.7431917, 'IBM', 'Operating system'),\n",
       " (0.7338766, 'IBM', 'Microprocessor'),\n",
       " (0.7300315, 'IBM', 'Unix'),\n",
       " (0.6878544, 'IBM', 'Compiler'),\n",
       " (0.6814177, 'IBM', 'Cloud computing'),\n",
       " (0.65513045, 'IBM', 'Berkeley Software Distribution'),\n",
       " (0.6541496, 'IBM', 'Intel'),\n",
       " (0.6436416, 'IBM', 'ARM architecture'),\n",
       " (0.62924486, 'Server (computing)', 'IBM'),\n",
       " (0.6270959, 'IBM', 'Hewlett-Packard'),\n",
       " (0.62568736, 'IBM', 'FreeBSD'),\n",
       " (0.6176665, 'IBM', 'Central processing unit'),\n",
       " (0.60758543, 'IBM', 'X Window System'),\n",
       " (0.60449404, 'Java (programming language)', 'IBM'),\n",
       " (0.59871125, 'IBM', 'MySQL'),\n",
       " (0.58770674, 'Application programming interface', 'IBM'),\n",
       " (0.5854343, 'IBM', 'XML'),\n",
       " (0.5745319, 'IBM', 'Library (computing)'),\n",
       " (0.57220286, 'IBM', '.NET Framework'),\n",
       " (0.56133187, 'IBM', 'Unix-like'),\n",
       " (0.5598469, 'IBM', 'Hard disk drive'),\n",
       " (0.5565874, 'IBM', 'Object-oriented programming'),\n",
       " (0.5351206, 'IBM', 'Linux'),\n",
       " (0.5316219, 'IBM', 'C (programming language)'),\n",
       " (0.5241717, 'IBM', 'Programming language'),\n",
       " (0.50487167, 'IBM', 'Graphical user interface')]"
      ]
     },
     "execution_count": 4,
     "output_type": "execute_result",
     "metadata": {}
    }
   ],
   "source": [
    "# Let's list the relations in order of relevance.\n",
    "ibm.edges()"
   ]
  },
  {
   "cell_type": "code",
   "execution_count": 8,
   "metadata": {},
   "outputs": [
    {
     "data": {
      "text/plain": [
       "[(0.89564085, 'IBM', 'Digital Equipment Corporation'),\n",
       " (0.8213564, 'IBM', 'X86'),\n",
       " (0.8081631, 'IBM', 'Fortran'),\n",
       " (0.80571836, 'IBM', 'Solaris (operating system)'),\n",
       " (0.803906, 'IBM', 'SQL'),\n",
       " (0.79933375, 'Supercomputer', 'IBM'),\n",
       " (0.79717726, 'IBM', 'X86-64'),\n",
       " (0.79349726, 'Advanced Micro Devices', 'IBM'),\n",
       " (0.780642, 'IBM', 'Sun Microsystems'),\n",
       " (0.7744718, 'IBM', 'Oracle Corporation'),\n",
       " (0.7431917, 'IBM', 'Operating system'),\n",
       " (0.7338766, 'IBM', 'Microprocessor'),\n",
       " (0.7300315, 'IBM', 'Unix'),\n",
       " (0.6878544, 'IBM', 'Compiler'),\n",
       " (0.6814177, 'IBM', 'Cloud computing'),\n",
       " (0.65513045, 'IBM', 'Berkeley Software Distribution'),\n",
       " (0.6541496, 'IBM', 'Intel')]"
      ]
     },
     "execution_count": 8,
     "output_type": "execute_result",
     "metadata": {}
    }
   ],
   "source": [
    "# The list_edges() object method returns (Correlation, Concept, Concept) tuples.\n",
    "# Let's filter down to edges to only those that fit a certain cutoff---say, 0.65.\n",
    "relevant_edges = filter(lambda edge: edge[0] > 0.65, ibm.edges())\n",
    "list(relevant_edges)"
   ]
  },
  {
   "cell_type": "code",
   "execution_count": 2,
   "metadata": {},
   "outputs": [
    {
     "data": {
      "text/plain": [
       "555"
      ]
     },
     "execution_count": 2,
     "output_type": "execute_result",
     "metadata": {}
    }
   ],
   "source": [
    "# Let's try playing with levels a bit.\n",
    "microsoft = ConceptModel(['Microsoft'])\n",
    "microsoft.explode(limit=2000, level=1)\n",
    "len(microsoft.concepts())"
   ]
  },
  {
   "cell_type": "code",
   "execution_count": 11,
   "metadata": {},
   "outputs": [
    {
     "data": {
      "text/plain": [
       "2000"
      ]
     },
     "execution_count": 11,
     "output_type": "execute_result",
     "metadata": {}
    }
   ],
   "source": [
    "apple = ConceptModel(['Apple Inc.'])\n",
    "apple.explode(limit=2000, level=5)\n",
    "len(apple.concepts())"
   ]
  },
  {
   "cell_type": "code",
   "execution_count": 12,
   "metadata": {},
   "outputs": [
    {
     "data": {
      "text/plain": [
       "[(0.99995303, 'Apple Inc.', 'Apple Corporation'),\n",
       " (0.999906, 'Apple Computers Incorporated', 'Apple Inc.'),\n",
       " (0.99985904, \"Apple's\", 'Apple Inc.'),\n",
       " (0.99981207, 'Apple Inc.', 'Apple Inc. Slogans'),\n",
       " (0.9997651, 'Apple Inc.', 'Spruce Text List'),\n",
       " (0.99971807, 'Apple, inc.', 'Apple Inc.'),\n",
       " (0.9996711, 'Apple Inc.', 'Big fruit'),\n",
       " (0.9995853, 'Apple Inc.', 'FireWave'),\n",
       " (0.9995427, 'AppleShare IP Migration', 'Apple Inc.'),\n",
       " (0.99950033, 'Apple Inc.', 'QTSS Publisher'),\n",
       " (0.9994586, 'Apple Inc.', 'Nightmare 6'),\n",
       " (0.99941695, 'Apple Inc.', 'Machspeed'),\n",
       " (0.9993754, 'Apple Inc.', 'Apple Pugetsound Program Library Exchange'),\n",
       " (0.9993339, 'The Sheffield Institute for the Recording Arts', 'Apple Inc.'),\n",
       " (0.99929255, 'Nidomain', 'Apple Inc.'),\n",
       " (0.9992513, '/// Cheers!', 'Apple Inc.'),\n",
       " (0.99921036, 'Val Golding', 'Apple Inc.'),\n",
       " (0.9991697, 'Apple Inc.', 'William Martens'),\n",
       " (0.9991291, 'Apple Inc.', 'Cards (iOS)'),\n",
       " (0.9990886, 'Power Macintosh (second generation)', 'Apple Inc.')]"
      ]
     },
     "execution_count": 12,
     "output_type": "execute_result",
     "metadata": {}
    }
   ],
   "source": [
    "# We maxed out our allowance! Let's check out the top 20 maybe to see what we got.\n",
    "apple.edges()[:20]"
   ]
  },
  {
   "cell_type": "code",
   "execution_count": 13,
   "metadata": {},
   "outputs": [
    {
     "data": {
      "text/plain": [
       "[(0.996133, 'Microsoft', 'Windows Live'),\n",
       " (0.9779484, '.NET Framework version history', 'Microsoft'),\n",
       " (0.97519916, 'Microsoft', 'Microsoft Office 2007'),\n",
       " (0.97378683, 'Windows Live Messenger', 'Microsoft'),\n",
       " (0.9682485, 'Microsoft', 'List of Microsoft Windows components'),\n",
       " (0.96686125, 'Windows Server 2008', 'Microsoft'),\n",
       " (0.9649106, 'Microsoft', 'Windows Presentation Foundation'),\n",
       " (0.96461135, 'Microsoft Exchange Server', 'Microsoft'),\n",
       " (0.96434224, 'Microsoft', 'Windows NT 4.0'),\n",
       " (0.9642824, 'Microsoft', 'Microsoft Visual Studio'),\n",
       " (0.9629393, 'Hotmail', 'Microsoft'),\n",
       " (0.9623143, 'Windows Server 2003', 'Microsoft'),\n",
       " (0.9609486, 'Features new to Windows Vista', 'Microsoft'),\n",
       " (0.9600303, 'Microsoft SharePoint', 'Microsoft'),\n",
       " (0.95917296, 'Windows 8', 'Microsoft'),\n",
       " (0.9589959, 'Active Directory', 'Microsoft'),\n",
       " (0.957729, 'Microsoft', 'Comparison of Microsoft Windows versions'),\n",
       " (0.957582, 'List of features removed in Windows Vista', 'Microsoft'),\n",
       " (0.9536003, 'Microsoft', 'Windows Explorer'),\n",
       " (0.9527554, 'Microsoft', 'Internet Information Services')]"
      ]
     },
     "execution_count": 13,
     "output_type": "execute_result",
     "metadata": {}
    }
   ],
   "source": [
    "# When you drill this deep some of the results stop making so much sense.\n",
    "# Apple Corporation, the top result, is just a redirect to Apple Inc; as are several others.\n",
    "# On the other hand Sheffield Institute is a minimally relevant article dominated by \"Apple certification\".\n",
    "# Compare this result to the much better Microsoft result:\n",
    "microsoft.edges()[:20]"
   ]
  },
  {
   "cell_type": "code",
   "execution_count": 20,
   "metadata": {},
   "outputs": [
    {
     "data": {
      "text/plain": [
       "35"
      ]
     },
     "execution_count": 20,
     "output_type": "execute_result",
     "metadata": {}
    }
   ],
   "source": [
    "# How many of these are Windows products?\n",
    "windows_products = filter(lambda concept: 'Windows' in concept, microsoft.concepts())\n",
    "len(list(windows_products))"
   ]
  },
  {
   "cell_type": "code",
   "execution_count": 38,
   "metadata": {},
   "outputs": [
    {
     "data": {
      "text/plain": [
       "[('Borland', 0.8774125),\n",
       " ('Citrix Systems', 0.8654945),\n",
       " ('Novell', 0.85103315),\n",
       " ('VMware', 0.8332759),\n",
       " ('Sybase', 0.80411357),\n",
       " ('Netscape', 0.7864997),\n",
       " ('SUSE Linux distributions', 0.7637935),\n",
       " ('Lotus Software', 0.7480776),\n",
       " ('Symantec', 0.7341511),\n",
       " ('Corel', 0.7205867),\n",
       " ('Palm, Inc.', 0.7023346),\n",
       " ('SCO Group', 0.6792166),\n",
       " ('List of corporations by market capitalization', 0.6557007),\n",
       " ('Macromedia', 0.62072474),\n",
       " ('Bungie', 0.61561286),\n",
       " ('CA Technologies', 0.6048778),\n",
       " ('McAfee', 0.60348326),\n",
       " ('Apache Software Foundation', 0.6001845),\n",
       " ('Outline of Apple Inc.', 0.6001148),\n",
       " ('Red Hat', 0.5986523),\n",
       " ('Oracle Corporation', 0.57815367),\n",
       " ('Sun Microsystems', 0.5575713),\n",
       " ('Microsoft Studios (game studio)', 0.55289716),\n",
       " ('Compaq', 0.55195856),\n",
       " ('Salesforce.com', 0.55179834),\n",
       " ('Boxee', 0.53604156),\n",
       " ('Intuit', 0.5294857),\n",
       " ('Adobe Systems', 0.5262806)]"
      ]
     },
     "execution_count": 38,
     "output_type": "execute_result",
     "metadata": {}
    }
   ],
   "source": [
    "# Remember that every concept in the graph is backended by a Wikipedia page.\n",
    "# We can crawl these pages to generate all sorts of interesting results.\n",
    "# For instance, let's try filtering our results and looking only specifically for relationships with other companies.\n",
    "# We do this by searching for \"companies\" in the articles' categorization.\n",
    "# WARNING: This requires requesting pages on Wikipedia 555 times, which takes about two minutes to process.\n",
    "def categories_snapshot(concept):\n",
    "    dat = requests.get('https://en.wikipedia.org/wiki/' + concept).text\n",
    "    return dat[dat.find(\"<div id='catlinks' class='catlinks'>\"):]\n",
    "\n",
    "def select(t):\n",
    "    if t[1] == 'Microsoft':\n",
    "        return t[2]\n",
    "    else:\n",
    "        return t[1]\n",
    "\n",
    "top_555 = [(select(edge), edge[0]) for edge in microsoft.edges()]\n",
    "top_companies = [concept for concept in top_555 if 'companies' in categories_snapshot(concept[0])]\n",
    "top_companies"
   ]
  },
  {
   "cell_type": "code",
   "execution_count": 4,
   "metadata": {},
   "outputs": [
    {
     "data": {
      "text/plain": [
       "53"
      ]
     },
     "execution_count": 4,
     "output_type": "execute_result",
     "metadata": {}
    }
   ],
   "source": [
    "# Not bad!\n",
    "# So far we've stuck to ConceptModels constructed around a single particular node.\n",
    "# Let's explore the other two exploration methedologies.\n",
    "# Although we started with explode(), augment() is actually the simplest of the three.\n",
    "# It simply takes the concept you give it, runs it by the API, and merges the resulting graph into the existing one.\n",
    "# That concept need not already be present in the graph!\n",
    "# Note that both of these methods have the same level and limit paramaters as explode().\n",
    "ibm.augment('IBM Watson')\n",
    "len(ibm.concepts())"
   ]
  },
  {
   "cell_type": "code",
   "execution_count": 5,
   "metadata": {},
   "outputs": [
    {
     "data": {
      "text/plain": [
       "[('Advanced Micro Devices', 0.79349726),\n",
       " ('Application programming interface', 0.58770674),\n",
       " ('Server (computing)', 0.62924486),\n",
       " ('Supercomputer', 0.79933375),\n",
       " ('Java (programming language)', 0.60449404),\n",
       " ('Solaris (operating system)', 0.80571836),\n",
       " ('Berkeley Software Distribution', 0.65513045),\n",
       " ('Unix', 0.7300315),\n",
       " ('MySQL', 0.59871125),\n",
       " ('SQL', 0.803906),\n",
       " ('Intel', 0.6541496),\n",
       " ('.NET Framework', 0.57220286),\n",
       " ('X Window System', 0.60758543),\n",
       " ('IBM Watson', 0.91326),\n",
       " ('Operating system', 0.7431917),\n",
       " ('Object-oriented programming', 0.5565874),\n",
       " ('X86', 0.8213564),\n",
       " ('FreeBSD', 0.62568736),\n",
       " ('C (programming language)', 0.5316219),\n",
       " ('Unix-like', 0.56133187),\n",
       " ('Hard disk drive', 0.5598469),\n",
       " ('ARM architecture', 0.6436416),\n",
       " ('Graphical user interface', 0.50487167),\n",
       " ('Central processing unit', 0.6176665),\n",
       " ('Microprocessor', 0.7338766),\n",
       " ('Compiler', 0.6878544),\n",
       " ('Linux', 0.5351206),\n",
       " ('Cloud computing', 0.6814177),\n",
       " ('Programming language', 0.5241717),\n",
       " ('Hewlett-Packard', 0.6270959),\n",
       " ('Sun Microsystems', 0.780642),\n",
       " ('Digital Equipment Corporation', 0.89564085),\n",
       " ('Oracle Corporation', 0.7744718),\n",
       " ('X86-64', 0.79717726),\n",
       " ('Library (computing)', 0.5745319),\n",
       " ('Fortran', 0.8081631),\n",
       " ('XML', 0.5854343),\n",
       " ('IBM', 1)]"
      ]
     },
     "execution_count": 5,
     "output_type": "execute_result",
     "metadata": {}
    }
   ],
   "source": [
    "# We started at 37 nodes; now we've gained 16 new ones, for 53 in total.\n",
    "# How many of these nodes are removed from the IBM node at least once?\n",
    "# We can figure this out using the neighborhood() command, which lists everything directly connected to the chosen one.\n",
    "ibm.neighborhood('IBM')"
   ]
  },
  {
   "cell_type": "code",
   "execution_count": 13,
   "metadata": {},
   "outputs": [
    {
     "data": {
      "text/plain": [
       "['Artificial intelligence',\n",
       " 'Association for Computing Machinery',\n",
       " 'Carnegie Mellon University',\n",
       " 'Cognition',\n",
       " 'Consciousness',\n",
       " 'Game show',\n",
       " 'Index of robotics articles',\n",
       " 'Institute of Electrical and Electronics Engineers',\n",
       " \"List of minor The Hitchhiker's Guide to the Galaxy characters\",\n",
       " 'Metadata',\n",
       " 'Rensselaer Polytechnic Institute',\n",
       " 'Semantics',\n",
       " 'University of Massachusetts Amherst',\n",
       " 'Web search engine',\n",
       " 'Wikipedia']"
      ]
     },
     "execution_count": 13,
     "output_type": "execute_result",
     "metadata": {}
    }
   ],
   "source": [
    "ibm_n = [t[0] for t in ibm.neighborhood('IBM')]\n",
    "watson_n = [t[0] for t in ibm.neighborhood('IBM Watson')]\n",
    "watsonian_only_club = [c for c in ibm.concepts() if c in watson_n and c not in ibm_n]\n",
    "watsonian_only_club"
   ]
  },
  {
   "cell_type": "code",
   "execution_count": 18,
   "metadata": {},
   "outputs": [],
   "source": [
    "# Let's go back to our IBM graph and use another new command, expand().\n",
    "# Expand works by expanding every concept with less than n edges, where n is an optional parameter defaulting to 1.\n",
    "# So e.g. obviously the following does nothing:\n",
    "ibm.expand(n=0)"
   ]
  },
  {
   "cell_type": "code",
   "execution_count": 19,
   "metadata": {},
   "outputs": [],
   "source": [
    "# Using our default argument, on the other hand...\n",
    "ibm.expand()"
   ]
  },
  {
   "cell_type": "code",
   "execution_count": 20,
   "metadata": {},
   "outputs": [
    {
     "data": {
      "text/plain": [
       "255"
      ]
     },
     "execution_count": 20,
     "output_type": "execute_result",
     "metadata": {}
    }
   ],
   "source": [
    "# A lot of new stuff!\n",
    "# Augment can net us more results much more quickly, but it only works on a single node.\n",
    "# Expand on the other hand works on as many as you let it.\n",
    "# And explode works on *ALL* of them.\n",
    "len(ibm.concepts())"
   ]
  },
  {
   "cell_type": "code",
   "execution_count": 22,
   "metadata": {},
   "outputs": [
    {
     "data": {
      "text/plain": [
       "[(0.9824447,\n",
       "  \"List of minor The Hitchhiker's Guide to the Galaxy characters\",\n",
       "  \"Places in The Hitchhiker's Guide to the Galaxy\"),\n",
       " (0.9795031, 'Advanced Micro Devices', 'X86-64'),\n",
       " (0.9777767, 'C Sharp (programming language)', '.NET Framework'),\n",
       " (0.97479653, 'MySQL', 'PHP'),\n",
       " (0.9732626, 'Troy, New York', 'Rensselaer Polytechnic Institute'),\n",
       " (0.9697869, 'X86', 'X86-64'),\n",
       " (0.96823686, 'Berkeley Software Distribution', 'FreeBSD'),\n",
       " (0.9647193, 'Sun Microsystems', 'Solaris (operating system)'),\n",
       " (0.9644456, 'Semantics', 'List of linguists'),\n",
       " (0.9643342, 'MySQL', 'SQL'),\n",
       " (0.9635352, 'Graphical user interface', 'X Window System'),\n",
       " (0.9593459, 'Advanced Micro Devices', 'X86'),\n",
       " (0.95637155, 'Semantics', 'Syntax'),\n",
       " (0.95279807, 'Object-oriented programming', 'Ruby (programming language)'),\n",
       " (0.95201236, 'Robotics', 'Index of robotics articles'),\n",
       " (0.95163786, 'Berkeley Software Distribution', 'Unix'),\n",
       " (0.94865924, 'Oracle Corporation', 'SQL'),\n",
       " (0.9457252, 'FreeBSD', 'Solaris (operating system)'),\n",
       " (0.944809, 'Unix-like', 'X Window System'),\n",
       " (0.94447476, 'Object-oriented programming', 'C Sharp (programming language)')]"
      ]
     },
     "execution_count": 22,
     "output_type": "execute_result",
     "metadata": {}
    }
   ],
   "source": [
    "# Of course at this point we are expanding concepts like \"Wikipedia\" and \"Game show\".\n",
    "# So our results start to get pretty far away from where we started!\n",
    "ibm.edges()[:20]"
   ]
  },
  {
   "cell_type": "code",
   "execution_count": 12,
   "metadata": {},
   "outputs": [
    {
     "data": {
      "text/plain": [
       "'Windows 7'"
      ]
     },
     "execution_count": 12,
     "output_type": "execute_result",
     "metadata": {}
    }
   ],
   "source": [
    "# \"Six degrees of Wikipedia\" is a popular and somewhat research-supported idea that all Wikipedia articles are within six\n",
    "# hops of one another, at most.\n",
    "# To illustrate how far Watson's cognitive graph can wander, on the other hand, let's take a random 3-step walks. Fun!\n",
    "# Try re-running this code block yourself. Where do you end up?\n",
    "def jump(concept):\n",
    "    c = ConceptModel([concept])\n",
    "    c.explode()\n",
    "    l = len(c.concepts())\n",
    "    return c.concepts()[random.randrange(0, l)]\n",
    "\n",
    "jump(jump(jump('IBM')))"
   ]
  },
  {
   "cell_type": "code",
   "execution_count": 14,
   "metadata": {},
   "outputs": [
    {
     "data": {
      "text/plain": [
       "['Windows 7',\n",
       " 'X Window System',\n",
       " 'Sun Microsystems',\n",
       " 'Cross-platform',\n",
       " 'X Window System']"
      ]
     },
     "execution_count": 14,
     "output_type": "execute_result",
     "metadata": {}
    }
   ],
   "source": [
    "# Doing this a whole bunch of times:\n",
    "kinda_random = [jump(jump(jump(i))) for i in ['IBM'] * 5]\n",
    "kinda_random"
   ]
  },
  {
   "cell_type": "code",
   "execution_count": 15,
   "metadata": {},
   "outputs": [
    {
     "data": {
      "text/plain": [
       "[(3286, 'Windows 7'),\n",
       " (1071, 'Sun Microsystems'),\n",
       " (910, 'X Window System'),\n",
       " (763, 'Cross-platform')]"
      ]
     },
     "execution_count": 15,
     "output_type": "execute_result",
     "metadata": {}
    }
   ],
   "source": [
    "# Daily page views are a bit of sugar built into the watson-graph library.\n",
    "# This data is based on a 30-day average, and is generated by a call against the appropriate Wikipedia API.\n",
    "# Note that because they are a significant additional overhead you have to instantiate them yourself!\n",
    "kr = ConceptModel(kinda_random)\n",
    "kr.set_view_counts()\n",
    "kr.concepts_by_view_count()"
   ]
  },
  {
   "cell_type": "code",
   "execution_count": 4,
   "metadata": {},
   "outputs": [
    {
     "data": {
      "text/plain": [
       "554"
      ]
     },
     "execution_count": 4,
     "output_type": "execute_result",
     "metadata": {}
    }
   ],
   "source": [
    "# There are two ways of removing concepts for a graph.\n",
    "# The simple way is to just remove one by label, with remove_concept()\n",
    "microsoft.add('Microsoft')\n",
    "microsoft.remove('Microsoft')\n",
    "len(microsoft.concepts())"
   ]
  },
  {
   "cell_type": "code",
   "execution_count": 8,
   "metadata": {},
   "outputs": [
    {
     "data": {
      "text/plain": [
       "0"
      ]
     },
     "execution_count": 8,
     "output_type": "execute_result",
     "metadata": {}
    }
   ],
   "source": [
    "# The more complex but \"funner\" way is with abridge(), which is basically the opposite of augment() used above.\n",
    "# Remember how we defined the microsoft model? The following result shouldn't come as a surprise!\n",
    "microsoft.abridge('Microsoft', limit=2000, level=1)\n",
    "len(microsoft.concepts())"
   ]
  },
  {
   "cell_type": "code",
   "execution_count": 16,
   "metadata": {},
   "outputs": [
    {
     "data": {
      "text/plain": [
       "{'directed': False,\n",
       " 'graph': {'name': '()'},\n",
       " 'links': [],\n",
       " 'multigraph': False,\n",
       " 'nodes': [{'id': 'Sun Microsystems', 'relevance': 0.0, 'view_count': 1071},\n",
       "  {'id': 'Cross-platform', 'relevance': 0.0, 'view_count': 763},\n",
       "  {'id': 'X Window System', 'relevance': 0.0, 'view_count': 910},\n",
       "  {'id': 'Windows 7', 'relevance': 0.0, 'view_count': 3286}]}"
      ]
     },
     "execution_count": 16,
     "output_type": "execute_result",
     "metadata": {}
    }
   ],
   "source": [
    "# Just one last thing!\n",
    "# This library provides default bindings for saving to and loading from JSON.\n",
    "# These are in the form of the alternating to_json() and from_json() object methods.\n",
    "kr.to_json()"
   ]
  }
 ],
 "metadata": {
  "kernelspec": {
   "display_name": "Python 3",
   "language": "python",
   "name": "python3"
  },
  "language_info": {
   "codemirror_mode": {
    "name": "ipython",
    "version": 3.0
   },
   "file_extension": ".py",
   "mimetype": "text/x-python",
   "name": "python",
   "nbconvert_exporter": "python",
   "pygments_lexer": "ipython3",
   "version": "3.4.3"
  }
 },
 "nbformat": 4,
 "nbformat_minor": 0
}